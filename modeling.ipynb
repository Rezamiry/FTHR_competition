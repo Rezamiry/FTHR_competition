{
 "cells": [
  {
   "cell_type": "code",
   "execution_count": 1,
   "metadata": {},
   "outputs": [],
   "source": [
    "import numpy as np\n",
    "import pandas as pd\n",
    "import datetime\n",
    "from sklearn.preprocessing import MinMaxScaler\n",
    "\n",
    "import random\n",
    "\n",
    "random.seed(0)"
   ]
  },
  {
   "cell_type": "code",
   "execution_count": null,
   "metadata": {},
   "outputs": [],
   "source": [
    "df = pd.read_pickle(\"./clean_df.pkl\")"
   ]
  },
  {
   "cell_type": "markdown",
   "metadata": {},
   "source": [
    "## Preparing the dataset for training"
   ]
  },
  {
   "cell_type": "markdown",
   "metadata": {},
   "source": [
    "### Split the dataset to train/validation/test sets"
   ]
  },
  {
   "cell_type": "code",
   "execution_count": null,
   "metadata": {},
   "outputs": [],
   "source": [
    "train_df = df[(df['RaceStartTime'].dt.date<datetime.date(2020,11,1))]  \n",
    "validation_df = df[(df['RaceStartTime'].dt.date>=datetime.date(2020,11,1)) & (df['RaceStartTime'].dt.date<datetime.date(2021,11,1))]\n",
    "test_df = df[df['RaceStartTime'].dt.date>=datetime.date(2021,11,1)]"
   ]
  },
  {
   "cell_type": "markdown",
   "metadata": {},
   "source": [
    "### Creating the target variable"
   ]
  },
  {
   "cell_type": "code",
   "execution_count": null,
   "metadata": {},
   "outputs": [],
   "source": [
    "train_df['finish_position_num'] = 20\n",
    "temp_index = train_df['FinishPosition'].isin(['1','2','3','4','5','6','7','8','9','10','11','12','13','14','15','16','17','18'])\n",
    "train_df['finish_position_num'][temp_index] = train_df['FinishPosition'][temp_index].astype(int)\n",
    "\n",
    "validation_df['finish_position_num'] = 20\n",
    "temp_index = validation_df['FinishPosition'].isin(['1','2','3','4','5','6','7','8','9','10','11','12','13','14','15','16','17','18'])\n",
    "validation_df['finish_position_num'][temp_index] = validation_df['FinishPosition'][temp_index].astype(int)\n",
    "\n",
    "test_df['finish_position_num'] = 20\n",
    "temp_index = test_df['FinishPosition'].isin(['1','2','3','4','5','6','7','8','9','10','11','12','13','14','15','16','17','18'])\n",
    "test_df['finish_position_num'][temp_index] = test_df['FinishPosition'][temp_index].astype(int)"
   ]
  },
  {
   "cell_type": "code",
   "execution_count": null,
   "metadata": {},
   "outputs": [],
   "source": [
    "# scale performance metrics to have the same scale\n",
    "transform_columns = ['finish_position_num', 'BeatenMargin', 'PriceSP', 'PIRPosition']\n",
    "\n",
    "target_mmscaler = MinMaxScaler()\n",
    "target_mmscaler.fit(train_df[transform_columns])\n",
    "train_df[transform_columns] = target_mmscaler.transform(train_df[transform_columns])\n",
    "validation_df[transform_columns] = target_mmscaler.transform(validation_df[transform_columns])\n",
    "test_df[transform_columns] = target_mmscaler.transform(test_df[transform_columns])"
   ]
  },
  {
   "cell_type": "code",
   "execution_count": null,
   "metadata": {},
   "outputs": [],
   "source": [
    "# we created two target variable but in the end only used target_1\n",
    "train_df['target_1'] = 1 / (1 + train_df['BeatenMargin']+train_df['finish_position_num']+train_df['PIRPosition']+train_df['PriceSP'])\n",
    "train_df['target_2'] = 1 / (train_df['BeatenMargin']+train_df['finish_position_num']+train_df['PIRPosition']+train_df['PriceSP'])\n",
    "\n",
    "validation_df['target_1'] = 1 / (1 + validation_df['BeatenMargin']+validation_df['finish_position_num']+validation_df['PIRPosition']+validation_df['PriceSP'])\n",
    "validation_df['target_2'] = 1 / (validation_df['BeatenMargin']+validation_df['finish_position_num']+validation_df['PIRPosition']+validation_df['PriceSP'])\n",
    "\n",
    "test_df['target_1'] = 1 / (1 + test_df['BeatenMargin']+test_df['finish_position_num']+test_df['PIRPosition']+test_df['PriceSP'])\n",
    "test_df['target_2'] = 1 / (test_df['BeatenMargin']+test_df['finish_position_num']+test_df['PIRPosition']+test_df['PriceSP'])"
   ]
  },
  {
   "cell_type": "markdown",
   "metadata": {},
   "source": [
    "### Scaling features using MinMaxScaler"
   ]
  },
  {
   "cell_type": "code",
   "execution_count": 15,
   "metadata": {},
   "outputs": [],
   "source": [
    "transform_columns = [col for col in train_df.columns if col not in ['HorseID', 'Prizemoney', 'RaceID','target', 'RaceStartTime', \"PIRPosition\", \"PriceSP\", \"finish_position_num\", \"BeatenMargin\", \"target_1\", \"target_2\", \"FinishPosition\"]]\n",
    "\n",
    "mmscaler = MinMaxScaler()\n",
    "mmscaler.fit(train_df[transform_columns])\n",
    "train_df[transform_columns] = mmscaler.transform(train_df[transform_columns])\n",
    "validation_df[transform_columns] = mmscaler.transform(validation_df[transform_columns])\n",
    "test_df[transform_columns] = mmscaler.transform(test_df[transform_columns])"
   ]
  },
  {
   "cell_type": "markdown",
   "metadata": {},
   "source": [
    "### Creating data instances. each instance is a 2d snapshot of extraced features of all contestants of each race"
   ]
  },
  {
   "cell_type": "code",
   "execution_count": null,
   "metadata": {
    "collapsed": true,
    "jupyter": {
     "outputs_hidden": true
    },
    "tags": []
   },
   "outputs": [],
   "source": [
    "train = []\n",
    "validation = []\n",
    "test = []\n",
    "train_target = []\n",
    "validation_target = []\n",
    "test_target = []\n",
    "filter_columns = ['HorseID', 'Prizemoney', 'RaceID','target', 'RaceStartTime', \"PIRPosition\", \"PriceSP\", \"finish_position_num\", \"BeatenMargin\", \"target_1\", \"target_2\", \"FinishPosition\"]\n",
    "test_dic = {}\n",
    "\n",
    "counter = 0\n",
    "for gp in train_df.groupby(\"RaceID\"):\n",
    "    counter+=1\n",
    "    if counter % 1000 == 0:\n",
    "        print(counter)\n",
    "    if gp[1].shape[0] < 20:\n",
    "        d = pd.DataFrame(0, index=np.arange(20-gp[1].shape[0]), columns=gp[1].columns)\n",
    "        t = pd.concat([gp[1],d]).sample(frac=1)\n",
    "    train.append(t.drop(columns=filter_columns).to_numpy())\n",
    "    train_target.append(t['target_1'].to_numpy())\n",
    "\n",
    "counter = 0\n",
    "for gp in validation_df.groupby(\"RaceID\"):\n",
    "    counter+=1\n",
    "    if counter % 1000 == 0:\n",
    "        print(counter)\n",
    "    if gp[1].shape[0] < 20:\n",
    "        d = pd.DataFrame(0, index=np.arange(20-gp[1].shape[0]), columns=gp[1].columns)\n",
    "        t = pd.concat([gp[1],d]).sample(frac=1)\n",
    "    validation.append(t.drop(columns=filter_columns).to_numpy())\n",
    "    validation_target.append(t['target_1'].to_numpy())\n",
    "\n",
    "counter = 0\n",
    "for gp in test_df.groupby(\"RaceID\"):\n",
    "    if counter % 1000 == 0:\n",
    "        print(counter)\n",
    "    if gp[1].shape[0] < 20:\n",
    "        d = pd.DataFrame(0, index=np.arange(20-gp[1].shape[0]), columns=gp[1].columns)\n",
    "        t = pd.concat([gp[1],d]).sample(frac=1)\n",
    "    test_dic[counter] = {\"RaceID\": gp[0], \"HorseIDS\" : t['HorseID'].values}\n",
    "    counter+=1\n",
    "    test.append(t.drop(columns=filter_columns).to_numpy())\n",
    "    test_target.append(t['target_1'].to_numpy())\n",
    "\n",
    "\n",
    "\n",
    "train = np.array(train)\n",
    "validation = np.array(validation)\n",
    "test = np.array(test)\n",
    "train_target = np.array(train_target)\n",
    "validation_target = np.array(validation_target)\n",
    "test_target = np.array(test_target)"
   ]
  },
  {
   "cell_type": "code",
   "execution_count": null,
   "metadata": {},
   "outputs": [],
   "source": [
    "# scale scores to be in [0,1] and add up to 1\n",
    "\n",
    "train_target = [t/t.max() for t in train_target]\n",
    "validation_target = [t/t.max() for t in validation_target]\n",
    "test_target = [t/t.max() for t in test_target]\n",
    "\n",
    "train_target = [t/t.sum() for t in train_target]\n",
    "validation_target = [t/t.sum() for t in validation_target]\n",
    "test_target = [t/t.sum() for t in test_target]"
   ]
  },
  {
   "cell_type": "code",
   "execution_count": 21,
   "metadata": {},
   "outputs": [],
   "source": [
    "# saving the results\n",
    "data_dic = {\n",
    "    \"train\": train,\n",
    "    \"validation\": validation,\n",
    "    \"test\": test,\n",
    "    \"train_target\": train_target,\n",
    "    \"validation_target\": validation_target,\n",
    "    \"test_target\": test_target\n",
    "}\n",
    "\n",
    "import pickle\n",
    "with open(\"data_dic.pkl\", \"wb\") as f:\n",
    "    pickle.dump(data_dic, f)"
   ]
  },
  {
   "cell_type": "markdown",
   "metadata": {},
   "source": [
    "## Modeling"
   ]
  },
  {
   "cell_type": "code",
   "execution_count": null,
   "metadata": {},
   "outputs": [],
   "source": [
    "import os\n",
    "os.environ['KMP_DUPLICATE_LIB_OK']='True'\n",
    "os.environ['TF_CPP_MIN_LOG_LEVEL'] = '2'\n",
    "import warnings\n",
    "warnings.filterwarnings(\"ignore\")\n",
    "\n",
    "import pandas as pd\n",
    "import numpy as np\n",
    "from datetime import datetime\n",
    "import random\n",
    "\n",
    "random.seed(0)\n",
    "\n",
    "from tensorflow.keras.models import Model\n",
    "from tensorflow.keras.layers import Input\n",
    "from tensorflow.keras.layers import Activation\n",
    "from tensorflow.keras.layers import Dense\n",
    "from tensorflow.keras.layers import Dropout\n",
    "from tensorflow.keras.layers import Conv2D, AveragePooling2D, GlobalAveragePooling2D\n",
    "from tensorflow.keras.layers import Reshape, multiply\n",
    "from tensorflow.keras.layers import BatchNormalization\n",
    "from tensorflow.keras.optimizers import Adam\n",
    "from tensorflow.keras.models import load_model\n",
    "from tensorflow.keras.callbacks import ModelCheckpoint\n",
    "from tensorflow.keras.callbacks import EarlyStopping"
   ]
  },
  {
   "cell_type": "code",
   "execution_count": 1,
   "metadata": {},
   "outputs": [],
   "source": [
    "import pickle\n",
    "with open(\"data_dic.pkl\", \"rb\") as f:\n",
    "    data = pickle.load(f)\n",
    "    \n",
    "train = data['train']\n",
    "train_target = data['train_target']\n",
    "validation = data['validation']\n",
    "validation_target = data['validation_target']\n",
    "test = data['test']\n",
    "test_target = data['test_target']"
   ]
  },
  {
   "cell_type": "code",
   "execution_count": 8,
   "metadata": {},
   "outputs": [
    {
     "name": "stdout",
     "output_type": "stream",
     "text": [
      "Model: \"model_1\"\n",
      "__________________________________________________________________________________________________\n",
      " Layer (type)                   Output Shape         Param #     Connected to                     \n",
      "==================================================================================================\n",
      " input_2 (InputLayer)           [(None, 20, 210, 1)  0           []                               \n",
      "                                ]                                                                 \n",
      "                                                                                                  \n",
      " conv2d_9 (Conv2D)              (None, 20, 210, 512  10752       ['input_2[0][0]']                \n",
      "                                )                                                                 \n",
      "                                                                                                  \n",
      " batch_normalization_11 (BatchN  (None, 20, 210, 512  2048       ['conv2d_9[0][0]']               \n",
      " ormalization)                  )                                                                 \n",
      "                                                                                                  \n",
      " global_average_pooling2d_10 (G  (None, 512)         0           ['batch_normalization_11[0][0]'] \n",
      " lobalAveragePooling2D)                                                                           \n",
      "                                                                                                  \n",
      " reshape_9 (Reshape)            (None, 1, 512)       0           ['global_average_pooling2d_10[0][\n",
      "                                                                 0]']                             \n",
      "                                                                                                  \n",
      " dense_21 (Dense)               (None, 1, 32)        16416       ['reshape_9[0][0]']              \n",
      "                                                                                                  \n",
      " dense_22 (Dense)               (None, 1, 512)       16896       ['dense_21[0][0]']               \n",
      "                                                                                                  \n",
      " multiply_9 (Multiply)          (None, 20, 210, 512  0           ['batch_normalization_11[0][0]', \n",
      "                                )                                 'dense_22[0][0]']               \n",
      "                                                                                                  \n",
      " activation_11 (Activation)     (None, 20, 210, 512  0           ['multiply_9[0][0]']             \n",
      "                                )                                                                 \n",
      "                                                                                                  \n",
      " dropout_10 (Dropout)           (None, 20, 210, 512  0           ['activation_11[0][0]']          \n",
      "                                )                                                                 \n",
      "                                                                                                  \n",
      " global_average_pooling2d_11 (G  (None, 512)         0           ['dropout_10[0][0]']             \n",
      " lobalAveragePooling2D)                                                                           \n",
      "                                                                                                  \n",
      " dense_23 (Dense)               (None, 100)          51300       ['global_average_pooling2d_11[0][\n",
      "                                                                 0]']                             \n",
      "                                                                                                  \n",
      " batch_normalization_12 (BatchN  (None, 100)         400         ['dense_23[0][0]']               \n",
      " ormalization)                                                                                    \n",
      "                                                                                                  \n",
      " activation_12 (Activation)     (None, 100)          0           ['batch_normalization_12[0][0]'] \n",
      "                                                                                                  \n",
      " dropout_11 (Dropout)           (None, 100)          0           ['activation_12[0][0]']          \n",
      "                                                                                                  \n",
      " dense_24 (Dense)               (None, 20)           2020        ['dropout_11[0][0]']             \n",
      "                                                                                                  \n",
      " batch_normalization_13 (BatchN  (None, 20)          80          ['dense_24[0][0]']               \n",
      " ormalization)                                                                                    \n",
      "                                                                                                  \n",
      " activation_13 (Activation)     (None, 20)           0           ['batch_normalization_13[0][0]'] \n",
      "                                                                                                  \n",
      " dense_25 (Dense)               (None, 20)           420         ['activation_13[0][0]']          \n",
      "                                                                                                  \n",
      "==================================================================================================\n",
      "Total params: 100,332\n",
      "Trainable params: 99,068\n",
      "Non-trainable params: 1,264\n",
      "__________________________________________________________________________________________________\n"
     ]
    }
   ],
   "source": [
    "def squeeze_excite_block(filters,input):                      \n",
    "    se = GlobalAveragePooling2D()(input)\n",
    "    se = Reshape((1, filters))(se) \n",
    "    se = Dense(filters//16, activation='relu')(se)\n",
    "    se = Dense(filters, activation='sigmoid')(se)\n",
    "    se = multiply([input, se])\n",
    "    return se\n",
    "\n",
    "n_filters = 32\n",
    "input_x = Input(shape=(20, 210,1))\n",
    "\n",
    "x = Conv2D(filters=n_filters,\n",
    "           kernel_size=(1,10),\n",
    "           kernel_initializer = 'lecun_normal',\n",
    "           padding='same')(input_x)\n",
    "x = BatchNormalization()(x)\n",
    "x = squeeze_excite_block(n_filters,x)\n",
    "x = Activation('relu')(x)\n",
    "x = Dropout(0.5)(x)\n",
    "\n",
    "x = Conv2D(filters=n_filters*2,\n",
    "           kernel_size=(1,10),\n",
    "           kernel_initializer = 'lecun_normal',\n",
    "           padding='same')(x)\n",
    "\n",
    "x = BatchNormalization()(x)\n",
    "x = squeeze_excite_block(n_filters*2,x)\n",
    "x = Activation('relu')(x)\n",
    "x = AveragePooling2D(pool_size=4)(x)\n",
    "x = Dropout(0.5)(x)\n",
    "\n",
    "\n",
    "x = Conv2D(filters=n_filters*4,\n",
    "           kernel_size=(1,10),\n",
    "           kernel_initializer = 'lecun_normal',\n",
    "           padding='same')(x)\n",
    "\n",
    "x = BatchNormalization()(x)\n",
    "x = squeeze_excite_block(n_filters*4,x)\n",
    "x = Activation('relu')(x)\n",
    "x = Dropout(0.5)(x)\n",
    "\n",
    "x = Conv2D(filters=n_filters*4,\n",
    "           kernel_size=(20,1),\n",
    "           kernel_initializer = 'lecun_normal',\n",
    "           padding='same')(input_x)\n",
    "\n",
    "x = BatchNormalization()(x)\n",
    "x = squeeze_excite_block(n_filters*4,x)\n",
    "x = Activation('relu')(x)\n",
    "x = AveragePooling2D(pool_size=4)(x)\n",
    "x = Dropout(0.5)(x)\n",
    "\n",
    "\n",
    "x = Conv2D(filters=n_filters*4,\n",
    "           kernel_size=(20,1),\n",
    "           kernel_initializer = 'lecun_normal',\n",
    "           padding='same')(input_x)\n",
    "\n",
    "x = BatchNormalization()(x)\n",
    "x = squeeze_excite_block(n_filters*4,x)\n",
    "x = Activation('relu')(x)\n",
    "x = Dropout(0.5)(x)\n",
    "\n",
    "x = GlobalAveragePooling2D()(x)\n",
    "# x = Flatten()(x)\n",
    "x = Dense(100, kernel_initializer = 'lecun_normal')(x)\n",
    "x = BatchNormalization()(x)\n",
    "x = Activation('relu')(x)\n",
    "x = Dropout(0.5)(x)\n",
    "x = Dense(20, kernel_initializer = 'lecun_normal')(x)\n",
    "x = BatchNormalization()(x)\n",
    "x = Activation('sigmoid')(x)\n",
    "\n",
    "Y_HAT = Dense(20, activation=\"softmax\")(x)\n",
    "model = Model(inputs=input_x, outputs=Y_HAT)\n",
    "model.compile(\n",
    "    optimizer=Adam(learning_rate=0.001,clipnorm=1.0, clipvalue=5.0),\n",
    "    loss='categorical_crossentropy',\n",
    ")\n",
    "model.summary()\n",
    "\n",
    "\n",
    "chk = ModelCheckpoint(\"model_script_4\", monitor='val_loss', save_best_only=True, mode='min', verbose=1)\n",
    "model.fit(train,\n",
    "    np.array(train_target),\n",
    "    validation_data=(validation,np.array(validation_target)),\n",
    "    epochs=500,\n",
    "    batch_size=64,\n",
    "    verbose=1,\n",
    "    callbacks=[EarlyStopping(patience=50), chk])"
   ]
  },
  {
   "cell_type": "code",
   "execution_count": null,
   "metadata": {},
   "outputs": [],
   "source": [
    "chk = ModelCheckpoint(\"model_jup\", monitor='val_loss', save_best_only=True, mode='min', verbose=1)\n",
    "model.fit(train,\n",
    "    np.array(train_target),\n",
    "    validation_data=(validation,np.array(validation_target)),\n",
    "    epochs=500,\n",
    "    batch_size=64,\n",
    "    verbose=1,\n",
    "    callbacks=[EarlyStopping(patience=50), chk])"
   ]
  },
  {
   "cell_type": "code",
   "execution_count": null,
   "metadata": {},
   "outputs": [],
   "source": [
    "from tensorflow.keras.models import load_model\n",
    "model = load_model(\"model_script_4\")\n",
    "\n",
    "pred = model.predict(test)\n",
    "\n",
    "test_set_prediction = {\n",
    "    \"test_target\": test_target,\n",
    "    \"test_prediction\": pred,\n",
    "    \"test_race_horse_id\": test_dic\n",
    "}\n",
    "\n",
    "with open(\"test_set_prediction.pkl\", \"wb\") as f:\n",
    "    pickle.dump(test_set_prediction, f)"
   ]
  }
 ],
 "metadata": {
  "kernelspec": {
   "display_name": "py310",
   "language": "python",
   "name": "py310"
  },
  "language_info": {
   "codemirror_mode": {
    "name": "ipython",
    "version": 3
   },
   "file_extension": ".py",
   "mimetype": "text/x-python",
   "name": "python",
   "nbconvert_exporter": "python",
   "pygments_lexer": "ipython3",
   "version": "3.10.2"
  }
 },
 "nbformat": 4,
 "nbformat_minor": 4
}
